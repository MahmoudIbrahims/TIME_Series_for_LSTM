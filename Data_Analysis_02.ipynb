{
 "cells": [
  {
   "cell_type": "markdown",
   "id": "7e8e9a8e",
   "metadata": {},
   "source": [
    "# import libraries"
   ]
  },
  {
   "cell_type": "code",
   "execution_count": 45,
   "id": "88b69593",
   "metadata": {},
   "outputs": [],
   "source": [
    "import numpy as np\n",
    "import pandas as pd"
   ]
  },
  {
   "cell_type": "code",
   "execution_count": null,
   "id": "d8fdb305",
   "metadata": {},
   "outputs": [],
   "source": [
    "# TASKS:\n",
    "## What was the highest Sales?\n",
    "## What was the highest profit?\n",
    "## what was the highest selse in 2020?\n",
    "## what was the highest profit in 2020?\n",
    "## Get a view of unique values in column, e.g.'Sub-Category' \n",
    "## what was the average discount rate of chairs?\n",
    "## what was the min & max discount rate of chairs?\n",
    "## what was the average discount rate of Phones?\n",
    "## what was the min & max discount rate of Phones?\n",
    "## what was the average discount rate in phones?\n",
    "## Add an extra column for \"Order Month\" & \"Order Year\"\n",
    "## Add extra columns to seperate Year & Month from the Order Date\n",
    "## Add a new column to calcolate the profit margin for each sales record  \n",
    "## Export manipulated Dataframe to csv\n",
    "## create a new dataframe to reflect total & sales by sub_category\n",
    "## Develop a function,to return a dataframe which is grouped by a particular column"
   ]
  },
  {
   "cell_type": "markdown",
   "id": "88e3b886",
   "metadata": {},
   "source": [
    "### Load DataFrame and store it in a variable called \"df\""
   ]
  },
  {
   "cell_type": "code",
   "execution_count": 67,
   "id": "6a8bdb9f",
   "metadata": {},
   "outputs": [],
   "source": [
    "df=pd.read_excel('data.xlsx',engine='openpyxl')\n",
    "pd.options.display.max_rows = 10000"
   ]
  },
  {
   "cell_type": "markdown",
   "id": "407b0953",
   "metadata": {},
   "source": [
    "#### Inspeact first 3 rows of the DataFramedf.head"
   ]
  },
  {
   "cell_type": "code",
   "execution_count": 69,
   "id": "ca43a91e",
   "metadata": {},
   "outputs": [
    {
     "data": {
      "text/html": [
       "<div>\n",
       "<style scoped>\n",
       "    .dataframe tbody tr th:only-of-type {\n",
       "        vertical-align: middle;\n",
       "    }\n",
       "\n",
       "    .dataframe tbody tr th {\n",
       "        vertical-align: top;\n",
       "    }\n",
       "\n",
       "    .dataframe thead th {\n",
       "        text-align: right;\n",
       "    }\n",
       "</style>\n",
       "<table border=\"1\" class=\"dataframe\">\n",
       "  <thead>\n",
       "    <tr style=\"text-align: right;\">\n",
       "      <th></th>\n",
       "      <th>Row ID</th>\n",
       "      <th>Order ID</th>\n",
       "      <th>Order Date</th>\n",
       "      <th>Ship Mode</th>\n",
       "      <th>Customer ID</th>\n",
       "      <th>Customer Name</th>\n",
       "      <th>Segment</th>\n",
       "      <th>Country</th>\n",
       "      <th>City</th>\n",
       "      <th>State</th>\n",
       "      <th>Postal Code</th>\n",
       "      <th>Region</th>\n",
       "      <th>Product ID</th>\n",
       "      <th>Category</th>\n",
       "      <th>Sub-Category</th>\n",
       "      <th>Product Name</th>\n",
       "      <th>Sales</th>\n",
       "      <th>Quantity</th>\n",
       "      <th>Discount</th>\n",
       "      <th>Profit</th>\n",
       "    </tr>\n",
       "  </thead>\n",
       "  <tbody>\n",
       "    <tr>\n",
       "      <th>0</th>\n",
       "      <td>13</td>\n",
       "      <td>CA-2017-114412</td>\n",
       "      <td>2020-04-15</td>\n",
       "      <td>Standard Class</td>\n",
       "      <td>AA-10480</td>\n",
       "      <td>Andrew Allen</td>\n",
       "      <td>Consumer</td>\n",
       "      <td>United States</td>\n",
       "      <td>Concord</td>\n",
       "      <td>North Carolina</td>\n",
       "      <td>28027</td>\n",
       "      <td>South</td>\n",
       "      <td>OFF-PA-10002365</td>\n",
       "      <td>Office Supplies</td>\n",
       "      <td>Paper</td>\n",
       "      <td>Xerox 1967</td>\n",
       "      <td>15.552</td>\n",
       "      <td>3</td>\n",
       "      <td>0.2</td>\n",
       "      <td>5.4432</td>\n",
       "    </tr>\n",
       "    <tr>\n",
       "      <th>1</th>\n",
       "      <td>24</td>\n",
       "      <td>US-2017-156909</td>\n",
       "      <td>2020-07-16</td>\n",
       "      <td>Second Class</td>\n",
       "      <td>SF-20065</td>\n",
       "      <td>Sandra Flanagan</td>\n",
       "      <td>Consumer</td>\n",
       "      <td>United States</td>\n",
       "      <td>Philadelphia</td>\n",
       "      <td>Pennsylvania</td>\n",
       "      <td>19140</td>\n",
       "      <td>East</td>\n",
       "      <td>FUR-CH-10002774</td>\n",
       "      <td>Furniture</td>\n",
       "      <td>Chairs</td>\n",
       "      <td>Global Deluxe Stacking Chair, Gray</td>\n",
       "      <td>71.372</td>\n",
       "      <td>2</td>\n",
       "      <td>0.3</td>\n",
       "      <td>-1.0196</td>\n",
       "    </tr>\n",
       "    <tr>\n",
       "      <th>2</th>\n",
       "      <td>35</td>\n",
       "      <td>CA-2017-107727</td>\n",
       "      <td>2020-10-19</td>\n",
       "      <td>Second Class</td>\n",
       "      <td>MA-17560</td>\n",
       "      <td>Matt Abelman</td>\n",
       "      <td>Home Office</td>\n",
       "      <td>United States</td>\n",
       "      <td>Houston</td>\n",
       "      <td>Texas</td>\n",
       "      <td>77095</td>\n",
       "      <td>Central</td>\n",
       "      <td>OFF-PA-10000249</td>\n",
       "      <td>Office Supplies</td>\n",
       "      <td>Paper</td>\n",
       "      <td>Easy-staple paper</td>\n",
       "      <td>29.472</td>\n",
       "      <td>3</td>\n",
       "      <td>0.2</td>\n",
       "      <td>9.9468</td>\n",
       "    </tr>\n",
       "  </tbody>\n",
       "</table>\n",
       "</div>"
      ],
      "text/plain": [
       "   Row ID        Order ID Order Date       Ship Mode Customer ID  \\\n",
       "0      13  CA-2017-114412 2020-04-15  Standard Class    AA-10480   \n",
       "1      24  US-2017-156909 2020-07-16    Second Class    SF-20065   \n",
       "2      35  CA-2017-107727 2020-10-19    Second Class    MA-17560   \n",
       "\n",
       "     Customer Name      Segment        Country          City           State  \\\n",
       "0     Andrew Allen     Consumer  United States       Concord  North Carolina   \n",
       "1  Sandra Flanagan     Consumer  United States  Philadelphia    Pennsylvania   \n",
       "2     Matt Abelman  Home Office  United States       Houston           Texas   \n",
       "\n",
       "   Postal Code   Region       Product ID         Category Sub-Category  \\\n",
       "0        28027    South  OFF-PA-10002365  Office Supplies        Paper   \n",
       "1        19140     East  FUR-CH-10002774        Furniture       Chairs   \n",
       "2        77095  Central  OFF-PA-10000249  Office Supplies        Paper   \n",
       "\n",
       "                         Product Name   Sales  Quantity  Discount  Profit  \n",
       "0                          Xerox 1967  15.552         3       0.2  5.4432  \n",
       "1  Global Deluxe Stacking Chair, Gray  71.372         2       0.3 -1.0196  \n",
       "2                   Easy-staple paper  29.472         3       0.2  9.9468  "
      ]
     },
     "execution_count": 69,
     "metadata": {},
     "output_type": "execute_result"
    }
   ],
   "source": [
    "df.head(3)"
   ]
  },
  {
   "cell_type": "markdown",
   "id": "939ef8e1",
   "metadata": {},
   "source": [
    "#### Inspeact first 3 rows of the DataFramedf.tail"
   ]
  },
  {
   "cell_type": "code",
   "execution_count": 70,
   "id": "63e1d643",
   "metadata": {},
   "outputs": [
    {
     "data": {
      "text/html": [
       "<div>\n",
       "<style scoped>\n",
       "    .dataframe tbody tr th:only-of-type {\n",
       "        vertical-align: middle;\n",
       "    }\n",
       "\n",
       "    .dataframe tbody tr th {\n",
       "        vertical-align: top;\n",
       "    }\n",
       "\n",
       "    .dataframe thead th {\n",
       "        text-align: right;\n",
       "    }\n",
       "</style>\n",
       "<table border=\"1\" class=\"dataframe\">\n",
       "  <thead>\n",
       "    <tr style=\"text-align: right;\">\n",
       "      <th></th>\n",
       "      <th>Row ID</th>\n",
       "      <th>Order ID</th>\n",
       "      <th>Order Date</th>\n",
       "      <th>Ship Mode</th>\n",
       "      <th>Customer ID</th>\n",
       "      <th>Customer Name</th>\n",
       "      <th>Segment</th>\n",
       "      <th>Country</th>\n",
       "      <th>City</th>\n",
       "      <th>State</th>\n",
       "      <th>Postal Code</th>\n",
       "      <th>Region</th>\n",
       "      <th>Product ID</th>\n",
       "      <th>Category</th>\n",
       "      <th>Sub-Category</th>\n",
       "      <th>Product Name</th>\n",
       "      <th>Sales</th>\n",
       "      <th>Quantity</th>\n",
       "      <th>Discount</th>\n",
       "      <th>Profit</th>\n",
       "    </tr>\n",
       "  </thead>\n",
       "  <tbody>\n",
       "    <tr>\n",
       "      <th>3309</th>\n",
       "      <td>9992</td>\n",
       "      <td>CA-2017-121258</td>\n",
       "      <td>2020-02-26</td>\n",
       "      <td>Standard Class</td>\n",
       "      <td>DB-13060</td>\n",
       "      <td>Dave Brooks</td>\n",
       "      <td>Consumer</td>\n",
       "      <td>United States</td>\n",
       "      <td>Costa Mesa</td>\n",
       "      <td>California</td>\n",
       "      <td>92627</td>\n",
       "      <td>West</td>\n",
       "      <td>TEC-PH-10003645</td>\n",
       "      <td>Technology</td>\n",
       "      <td>Phones</td>\n",
       "      <td>Aastra 57i VoIP phone</td>\n",
       "      <td>258.576</td>\n",
       "      <td>2</td>\n",
       "      <td>0.2</td>\n",
       "      <td>19.3932</td>\n",
       "    </tr>\n",
       "    <tr>\n",
       "      <th>3310</th>\n",
       "      <td>9993</td>\n",
       "      <td>CA-2017-121258</td>\n",
       "      <td>2020-02-26</td>\n",
       "      <td>Standard Class</td>\n",
       "      <td>DB-13060</td>\n",
       "      <td>Dave Brooks</td>\n",
       "      <td>Consumer</td>\n",
       "      <td>United States</td>\n",
       "      <td>Costa Mesa</td>\n",
       "      <td>California</td>\n",
       "      <td>92627</td>\n",
       "      <td>West</td>\n",
       "      <td>OFF-PA-10004041</td>\n",
       "      <td>Office Supplies</td>\n",
       "      <td>Paper</td>\n",
       "      <td>It's Hot Message Books with Stickers, 2 3/4\" x 5\"</td>\n",
       "      <td>29.600</td>\n",
       "      <td>4</td>\n",
       "      <td>0.0</td>\n",
       "      <td>13.3200</td>\n",
       "    </tr>\n",
       "    <tr>\n",
       "      <th>3311</th>\n",
       "      <td>9994</td>\n",
       "      <td>CA-2017-119914</td>\n",
       "      <td>2020-05-04</td>\n",
       "      <td>Second Class</td>\n",
       "      <td>CC-12220</td>\n",
       "      <td>Chris Cortes</td>\n",
       "      <td>Consumer</td>\n",
       "      <td>United States</td>\n",
       "      <td>Westminster</td>\n",
       "      <td>California</td>\n",
       "      <td>92683</td>\n",
       "      <td>West</td>\n",
       "      <td>OFF-AP-10002684</td>\n",
       "      <td>Office Supplies</td>\n",
       "      <td>Appliances</td>\n",
       "      <td>Acco 7-Outlet Masterpiece Power Center, Wihtou...</td>\n",
       "      <td>243.160</td>\n",
       "      <td>2</td>\n",
       "      <td>0.0</td>\n",
       "      <td>72.9480</td>\n",
       "    </tr>\n",
       "  </tbody>\n",
       "</table>\n",
       "</div>"
      ],
      "text/plain": [
       "      Row ID        Order ID Order Date       Ship Mode Customer ID  \\\n",
       "3309    9992  CA-2017-121258 2020-02-26  Standard Class    DB-13060   \n",
       "3310    9993  CA-2017-121258 2020-02-26  Standard Class    DB-13060   \n",
       "3311    9994  CA-2017-119914 2020-05-04    Second Class    CC-12220   \n",
       "\n",
       "     Customer Name   Segment        Country         City       State  \\\n",
       "3309   Dave Brooks  Consumer  United States   Costa Mesa  California   \n",
       "3310   Dave Brooks  Consumer  United States   Costa Mesa  California   \n",
       "3311  Chris Cortes  Consumer  United States  Westminster  California   \n",
       "\n",
       "      Postal Code Region       Product ID         Category Sub-Category  \\\n",
       "3309        92627   West  TEC-PH-10003645       Technology       Phones   \n",
       "3310        92627   West  OFF-PA-10004041  Office Supplies        Paper   \n",
       "3311        92683   West  OFF-AP-10002684  Office Supplies   Appliances   \n",
       "\n",
       "                                           Product Name    Sales  Quantity  \\\n",
       "3309                              Aastra 57i VoIP phone  258.576         2   \n",
       "3310  It's Hot Message Books with Stickers, 2 3/4\" x 5\"   29.600         4   \n",
       "3311  Acco 7-Outlet Masterpiece Power Center, Wihtou...  243.160         2   \n",
       "\n",
       "      Discount   Profit  \n",
       "3309       0.2  19.3932  \n",
       "3310       0.0  13.3200  \n",
       "3311       0.0  72.9480  "
      ]
     },
     "execution_count": 70,
     "metadata": {},
     "output_type": "execute_result"
    }
   ],
   "source": [
    "df.tail(3)"
   ]
  },
  {
   "cell_type": "markdown",
   "id": "1c04d8ee",
   "metadata": {},
   "source": [
    "#### What was the highest Sales?"
   ]
  },
  {
   "cell_type": "code",
   "execution_count": 71,
   "id": "da981822",
   "metadata": {},
   "outputs": [
    {
     "data": {
      "text/html": [
       "<div>\n",
       "<style scoped>\n",
       "    .dataframe tbody tr th:only-of-type {\n",
       "        vertical-align: middle;\n",
       "    }\n",
       "\n",
       "    .dataframe tbody tr th {\n",
       "        vertical-align: top;\n",
       "    }\n",
       "\n",
       "    .dataframe thead th {\n",
       "        text-align: right;\n",
       "    }\n",
       "</style>\n",
       "<table border=\"1\" class=\"dataframe\">\n",
       "  <thead>\n",
       "    <tr style=\"text-align: right;\">\n",
       "      <th></th>\n",
       "      <th>Row ID</th>\n",
       "      <th>Order ID</th>\n",
       "      <th>Order Date</th>\n",
       "      <th>Ship Mode</th>\n",
       "      <th>Customer ID</th>\n",
       "      <th>Customer Name</th>\n",
       "      <th>Segment</th>\n",
       "      <th>Country</th>\n",
       "      <th>City</th>\n",
       "      <th>State</th>\n",
       "      <th>Postal Code</th>\n",
       "      <th>Region</th>\n",
       "      <th>Product ID</th>\n",
       "      <th>Category</th>\n",
       "      <th>Sub-Category</th>\n",
       "      <th>Product Name</th>\n",
       "      <th>Sales</th>\n",
       "      <th>Quantity</th>\n",
       "      <th>Discount</th>\n",
       "      <th>Profit</th>\n",
       "    </tr>\n",
       "  </thead>\n",
       "  <tbody>\n",
       "    <tr>\n",
       "      <th>2710</th>\n",
       "      <td>8154</td>\n",
       "      <td>CA-2017-140151</td>\n",
       "      <td>2020-03-23</td>\n",
       "      <td>First Class</td>\n",
       "      <td>RB-19360</td>\n",
       "      <td>Raymond Buch</td>\n",
       "      <td>Consumer</td>\n",
       "      <td>United States</td>\n",
       "      <td>Seattle</td>\n",
       "      <td>Washington</td>\n",
       "      <td>98115</td>\n",
       "      <td>West</td>\n",
       "      <td>TEC-CO-10004722</td>\n",
       "      <td>Technology</td>\n",
       "      <td>Copiers</td>\n",
       "      <td>Canon imageCLASS 2200 Advanced Copier</td>\n",
       "      <td>13999.960</td>\n",
       "      <td>4</td>\n",
       "      <td>0.0</td>\n",
       "      <td>6719.9808</td>\n",
       "    </tr>\n",
       "    <tr>\n",
       "      <th>810</th>\n",
       "      <td>2624</td>\n",
       "      <td>CA-2017-127180</td>\n",
       "      <td>2020-10-22</td>\n",
       "      <td>First Class</td>\n",
       "      <td>TA-21385</td>\n",
       "      <td>Tom Ashbrook</td>\n",
       "      <td>Home Office</td>\n",
       "      <td>United States</td>\n",
       "      <td>New York City</td>\n",
       "      <td>New York</td>\n",
       "      <td>10024</td>\n",
       "      <td>East</td>\n",
       "      <td>TEC-CO-10004722</td>\n",
       "      <td>Technology</td>\n",
       "      <td>Copiers</td>\n",
       "      <td>Canon imageCLASS 2200 Advanced Copier</td>\n",
       "      <td>11199.968</td>\n",
       "      <td>4</td>\n",
       "      <td>0.2</td>\n",
       "      <td>3919.9888</td>\n",
       "    </tr>\n",
       "    <tr>\n",
       "      <th>1342</th>\n",
       "      <td>4191</td>\n",
       "      <td>CA-2017-166709</td>\n",
       "      <td>2020-11-17</td>\n",
       "      <td>Standard Class</td>\n",
       "      <td>HL-15040</td>\n",
       "      <td>Hunter Lopez</td>\n",
       "      <td>Consumer</td>\n",
       "      <td>United States</td>\n",
       "      <td>Newark</td>\n",
       "      <td>Delaware</td>\n",
       "      <td>19711</td>\n",
       "      <td>East</td>\n",
       "      <td>TEC-CO-10004722</td>\n",
       "      <td>Technology</td>\n",
       "      <td>Copiers</td>\n",
       "      <td>Canon imageCLASS 2200 Advanced Copier</td>\n",
       "      <td>10499.970</td>\n",
       "      <td>3</td>\n",
       "      <td>0.0</td>\n",
       "      <td>5039.9856</td>\n",
       "    </tr>\n",
       "    <tr>\n",
       "      <th>185</th>\n",
       "      <td>684</td>\n",
       "      <td>US-2017-168116</td>\n",
       "      <td>2020-11-04</td>\n",
       "      <td>Same Day</td>\n",
       "      <td>GT-14635</td>\n",
       "      <td>Grant Thornton</td>\n",
       "      <td>Corporate</td>\n",
       "      <td>United States</td>\n",
       "      <td>Burlington</td>\n",
       "      <td>North Carolina</td>\n",
       "      <td>27217</td>\n",
       "      <td>South</td>\n",
       "      <td>TEC-MA-10004125</td>\n",
       "      <td>Technology</td>\n",
       "      <td>Machines</td>\n",
       "      <td>Cubify CubeX 3D Printer Triple Head Print</td>\n",
       "      <td>7999.980</td>\n",
       "      <td>4</td>\n",
       "      <td>0.5</td>\n",
       "      <td>-3839.9904</td>\n",
       "    </tr>\n",
       "    <tr>\n",
       "      <th>2142</th>\n",
       "      <td>6521</td>\n",
       "      <td>CA-2017-138289</td>\n",
       "      <td>2020-01-16</td>\n",
       "      <td>Second Class</td>\n",
       "      <td>AR-10540</td>\n",
       "      <td>Andy Reiter</td>\n",
       "      <td>Consumer</td>\n",
       "      <td>United States</td>\n",
       "      <td>Jackson</td>\n",
       "      <td>Michigan</td>\n",
       "      <td>49201</td>\n",
       "      <td>Central</td>\n",
       "      <td>OFF-BI-10004995</td>\n",
       "      <td>Office Supplies</td>\n",
       "      <td>Binders</td>\n",
       "      <td>GBC DocuBind P400 Electric Binding System</td>\n",
       "      <td>5443.960</td>\n",
       "      <td>4</td>\n",
       "      <td>0.0</td>\n",
       "      <td>2504.2216</td>\n",
       "    </tr>\n",
       "  </tbody>\n",
       "</table>\n",
       "</div>"
      ],
      "text/plain": [
       "      Row ID        Order ID Order Date       Ship Mode Customer ID  \\\n",
       "2710    8154  CA-2017-140151 2020-03-23     First Class    RB-19360   \n",
       "810     2624  CA-2017-127180 2020-10-22     First Class    TA-21385   \n",
       "1342    4191  CA-2017-166709 2020-11-17  Standard Class    HL-15040   \n",
       "185      684  US-2017-168116 2020-11-04        Same Day    GT-14635   \n",
       "2142    6521  CA-2017-138289 2020-01-16    Second Class    AR-10540   \n",
       "\n",
       "       Customer Name      Segment        Country           City  \\\n",
       "2710    Raymond Buch     Consumer  United States        Seattle   \n",
       "810     Tom Ashbrook  Home Office  United States  New York City   \n",
       "1342    Hunter Lopez     Consumer  United States         Newark   \n",
       "185   Grant Thornton    Corporate  United States     Burlington   \n",
       "2142     Andy Reiter     Consumer  United States        Jackson   \n",
       "\n",
       "               State  Postal Code   Region       Product ID         Category  \\\n",
       "2710      Washington        98115     West  TEC-CO-10004722       Technology   \n",
       "810         New York        10024     East  TEC-CO-10004722       Technology   \n",
       "1342        Delaware        19711     East  TEC-CO-10004722       Technology   \n",
       "185   North Carolina        27217    South  TEC-MA-10004125       Technology   \n",
       "2142        Michigan        49201  Central  OFF-BI-10004995  Office Supplies   \n",
       "\n",
       "     Sub-Category                               Product Name      Sales  \\\n",
       "2710      Copiers      Canon imageCLASS 2200 Advanced Copier  13999.960   \n",
       "810       Copiers      Canon imageCLASS 2200 Advanced Copier  11199.968   \n",
       "1342      Copiers      Canon imageCLASS 2200 Advanced Copier  10499.970   \n",
       "185      Machines  Cubify CubeX 3D Printer Triple Head Print   7999.980   \n",
       "2142      Binders  GBC DocuBind P400 Electric Binding System   5443.960   \n",
       "\n",
       "      Quantity  Discount     Profit  \n",
       "2710         4       0.0  6719.9808  \n",
       "810          4       0.2  3919.9888  \n",
       "1342         3       0.0  5039.9856  \n",
       "185          4       0.5 -3839.9904  \n",
       "2142         4       0.0  2504.2216  "
      ]
     },
     "execution_count": 71,
     "metadata": {},
     "output_type": "execute_result"
    }
   ],
   "source": [
    "df.nlargest(5, 'Sales')"
   ]
  },
  {
   "cell_type": "markdown",
   "id": "0536af53",
   "metadata": {},
   "source": [
    "### What was the highest Profit?"
   ]
  },
  {
   "cell_type": "code",
   "execution_count": 72,
   "id": "90b2ab68",
   "metadata": {},
   "outputs": [
    {
     "data": {
      "text/html": [
       "<div>\n",
       "<style scoped>\n",
       "    .dataframe tbody tr th:only-of-type {\n",
       "        vertical-align: middle;\n",
       "    }\n",
       "\n",
       "    .dataframe tbody tr th {\n",
       "        vertical-align: top;\n",
       "    }\n",
       "\n",
       "    .dataframe thead th {\n",
       "        text-align: right;\n",
       "    }\n",
       "</style>\n",
       "<table border=\"1\" class=\"dataframe\">\n",
       "  <thead>\n",
       "    <tr style=\"text-align: right;\">\n",
       "      <th></th>\n",
       "      <th>Row ID</th>\n",
       "      <th>Order ID</th>\n",
       "      <th>Order Date</th>\n",
       "      <th>Ship Mode</th>\n",
       "      <th>Customer ID</th>\n",
       "      <th>Customer Name</th>\n",
       "      <th>Segment</th>\n",
       "      <th>Country</th>\n",
       "      <th>City</th>\n",
       "      <th>State</th>\n",
       "      <th>Postal Code</th>\n",
       "      <th>Region</th>\n",
       "      <th>Product ID</th>\n",
       "      <th>Category</th>\n",
       "      <th>Sub-Category</th>\n",
       "      <th>Product Name</th>\n",
       "      <th>Sales</th>\n",
       "      <th>Quantity</th>\n",
       "      <th>Discount</th>\n",
       "      <th>Profit</th>\n",
       "    </tr>\n",
       "  </thead>\n",
       "  <tbody>\n",
       "    <tr>\n",
       "      <th>2710</th>\n",
       "      <td>8154</td>\n",
       "      <td>CA-2017-140151</td>\n",
       "      <td>2020-03-23</td>\n",
       "      <td>First Class</td>\n",
       "      <td>RB-19360</td>\n",
       "      <td>Raymond Buch</td>\n",
       "      <td>Consumer</td>\n",
       "      <td>United States</td>\n",
       "      <td>Seattle</td>\n",
       "      <td>Washington</td>\n",
       "      <td>98115</td>\n",
       "      <td>West</td>\n",
       "      <td>TEC-CO-10004722</td>\n",
       "      <td>Technology</td>\n",
       "      <td>Copiers</td>\n",
       "      <td>Canon imageCLASS 2200 Advanced Copier</td>\n",
       "      <td>13999.960</td>\n",
       "      <td>4</td>\n",
       "      <td>0.0</td>\n",
       "      <td>6719.9808</td>\n",
       "    </tr>\n",
       "    <tr>\n",
       "      <th>1342</th>\n",
       "      <td>4191</td>\n",
       "      <td>CA-2017-166709</td>\n",
       "      <td>2020-11-17</td>\n",
       "      <td>Standard Class</td>\n",
       "      <td>HL-15040</td>\n",
       "      <td>Hunter Lopez</td>\n",
       "      <td>Consumer</td>\n",
       "      <td>United States</td>\n",
       "      <td>Newark</td>\n",
       "      <td>Delaware</td>\n",
       "      <td>19711</td>\n",
       "      <td>East</td>\n",
       "      <td>TEC-CO-10004722</td>\n",
       "      <td>Technology</td>\n",
       "      <td>Copiers</td>\n",
       "      <td>Canon imageCLASS 2200 Advanced Copier</td>\n",
       "      <td>10499.970</td>\n",
       "      <td>3</td>\n",
       "      <td>0.0</td>\n",
       "      <td>5039.9856</td>\n",
       "    </tr>\n",
       "    <tr>\n",
       "      <th>810</th>\n",
       "      <td>2624</td>\n",
       "      <td>CA-2017-127180</td>\n",
       "      <td>2020-10-22</td>\n",
       "      <td>First Class</td>\n",
       "      <td>TA-21385</td>\n",
       "      <td>Tom Ashbrook</td>\n",
       "      <td>Home Office</td>\n",
       "      <td>United States</td>\n",
       "      <td>New York City</td>\n",
       "      <td>New York</td>\n",
       "      <td>10024</td>\n",
       "      <td>East</td>\n",
       "      <td>TEC-CO-10004722</td>\n",
       "      <td>Technology</td>\n",
       "      <td>Copiers</td>\n",
       "      <td>Canon imageCLASS 2200 Advanced Copier</td>\n",
       "      <td>11199.968</td>\n",
       "      <td>4</td>\n",
       "      <td>0.2</td>\n",
       "      <td>3919.9888</td>\n",
       "    </tr>\n",
       "  </tbody>\n",
       "</table>\n",
       "</div>"
      ],
      "text/plain": [
       "      Row ID        Order ID Order Date       Ship Mode Customer ID  \\\n",
       "2710    8154  CA-2017-140151 2020-03-23     First Class    RB-19360   \n",
       "1342    4191  CA-2017-166709 2020-11-17  Standard Class    HL-15040   \n",
       "810     2624  CA-2017-127180 2020-10-22     First Class    TA-21385   \n",
       "\n",
       "     Customer Name      Segment        Country           City       State  \\\n",
       "2710  Raymond Buch     Consumer  United States        Seattle  Washington   \n",
       "1342  Hunter Lopez     Consumer  United States         Newark    Delaware   \n",
       "810   Tom Ashbrook  Home Office  United States  New York City    New York   \n",
       "\n",
       "      Postal Code Region       Product ID    Category Sub-Category  \\\n",
       "2710        98115   West  TEC-CO-10004722  Technology      Copiers   \n",
       "1342        19711   East  TEC-CO-10004722  Technology      Copiers   \n",
       "810         10024   East  TEC-CO-10004722  Technology      Copiers   \n",
       "\n",
       "                               Product Name      Sales  Quantity  Discount  \\\n",
       "2710  Canon imageCLASS 2200 Advanced Copier  13999.960         4       0.0   \n",
       "1342  Canon imageCLASS 2200 Advanced Copier  10499.970         3       0.0   \n",
       "810   Canon imageCLASS 2200 Advanced Copier  11199.968         4       0.2   \n",
       "\n",
       "         Profit  \n",
       "2710  6719.9808  \n",
       "1342  5039.9856  \n",
       "810   3919.9888  "
      ]
     },
     "execution_count": 72,
     "metadata": {},
     "output_type": "execute_result"
    }
   ],
   "source": [
    "df.nlargest(3,'Profit')"
   ]
  },
  {
   "cell_type": "markdown",
   "id": "5161c50f",
   "metadata": {},
   "source": [
    "### what was the highest selse in 2020?"
   ]
  },
  {
   "cell_type": "code",
   "execution_count": 73,
   "id": "4c2d6b4e",
   "metadata": {},
   "outputs": [
    {
     "data": {
      "text/plain": [
       "Row ID                                            8154\n",
       "Order ID                                CA-2017-140151\n",
       "Order Date                         2020-03-23 00:00:00\n",
       "Ship Mode                                  First Class\n",
       "Customer ID                                   RB-19360\n",
       "Customer Name                             Raymond Buch\n",
       "Segment                                       Consumer\n",
       "Country                                  United States\n",
       "City                                           Seattle\n",
       "State                                       Washington\n",
       "Postal Code                                      98115\n",
       "Region                                            West\n",
       "Product ID                             TEC-CO-10004722\n",
       "Category                                    Technology\n",
       "Sub-Category                                   Copiers\n",
       "Product Name     Canon imageCLASS 2200 Advanced Copier\n",
       "Sales                                         13999.96\n",
       "Quantity                                             4\n",
       "Discount                                           0.0\n",
       "Profit                                       6719.9808\n",
       "Name: 2710, dtype: object"
      ]
     },
     "execution_count": 73,
     "metadata": {},
     "output_type": "execute_result"
    }
   ],
   "source": [
    "df.iloc[df['Sales'].argmax()]"
   ]
  },
  {
   "cell_type": "markdown",
   "id": "2ecb8412",
   "metadata": {},
   "source": [
    "### what was the highest Profit in 2020?"
   ]
  },
  {
   "cell_type": "code",
   "execution_count": 52,
   "id": "1f85d66e",
   "metadata": {},
   "outputs": [
    {
     "data": {
      "text/plain": [
       "Row ID                                            8154\n",
       "Order ID                                CA-2017-140151\n",
       "Order Date                         2020-03-23 00:00:00\n",
       "Ship Mode                                  First Class\n",
       "Customer ID                                   RB-19360\n",
       "Customer Name                             Raymond Buch\n",
       "Segment                                       Consumer\n",
       "Country                                  United States\n",
       "City                                           Seattle\n",
       "State                                       Washington\n",
       "Postal Code                                      98115\n",
       "Region                                            West\n",
       "Product ID                             TEC-CO-10004722\n",
       "Category                                    Technology\n",
       "Sub-Category                                   Copiers\n",
       "Product Name     Canon imageCLASS 2200 Advanced Copier\n",
       "Sales                                         13999.96\n",
       "Quantity                                             4\n",
       "Discount                                           0.0\n",
       "Profit                                       6719.9808\n",
       "Name: 2710, dtype: object"
      ]
     },
     "execution_count": 52,
     "metadata": {},
     "output_type": "execute_result"
    }
   ],
   "source": [
    "df.iloc[df['Profit'].argmax()]"
   ]
  },
  {
   "cell_type": "markdown",
   "id": "d7d3d797",
   "metadata": {},
   "source": [
    "#### Get a view of unique values in column, e.g.'Sub-Category'"
   ]
  },
  {
   "cell_type": "code",
   "execution_count": 53,
   "id": "a04600d4",
   "metadata": {},
   "outputs": [
    {
     "data": {
      "text/plain": [
       "array(['Paper', 'Chairs', 'Phones', 'Storage', 'Binders', 'Furnishings',\n",
       "       'Accessories', 'Labels', 'Art', 'Fasteners', 'Envelopes',\n",
       "       'Appliances', 'Tables', 'Copiers', 'Bookcases', 'Supplies',\n",
       "       'Machines'], dtype=object)"
      ]
     },
     "execution_count": 53,
     "metadata": {},
     "output_type": "execute_result"
    }
   ],
   "source": [
    "df['Sub-Category'].unique()"
   ]
  },
  {
   "cell_type": "markdown",
   "id": "65f14f5a",
   "metadata": {},
   "source": [
    "#### what was the average discount rate of chairs?"
   ]
  },
  {
   "cell_type": "code",
   "execution_count": 54,
   "id": "20f764e2",
   "metadata": {},
   "outputs": [
    {
     "data": {
      "text/plain": [
       "0.1673684210526316"
      ]
     },
     "execution_count": 54,
     "metadata": {},
     "output_type": "execute_result"
    }
   ],
   "source": [
    "mask=df['Sub-Category']=='Chairs'\n",
    "\n",
    "df[mask]['Discount'].mean()\n"
   ]
  },
  {
   "cell_type": "markdown",
   "id": "b1e511b5",
   "metadata": {},
   "source": [
    "#### what was the min & max discount rate of chairs?"
   ]
  },
  {
   "cell_type": "code",
   "execution_count": 74,
   "id": "e8dab5c3",
   "metadata": {},
   "outputs": [
    {
     "data": {
      "text/plain": [
       "nan"
      ]
     },
     "execution_count": 74,
     "metadata": {},
     "output_type": "execute_result"
    }
   ],
   "source": [
    "mask=df['Sub-Category']=='chairs'\n",
    "#df[mask]['Discount'].min()\n",
    "df[mask]['Discount'].max()"
   ]
  },
  {
   "cell_type": "markdown",
   "id": "f0ffd9a3",
   "metadata": {},
   "source": [
    "#### what was the average discount rate of Phones?"
   ]
  },
  {
   "cell_type": "code",
   "execution_count": 60,
   "id": "f4e8f781",
   "metadata": {},
   "outputs": [
    {
     "data": {
      "text/plain": [
       "0.16394557823129272"
      ]
     },
     "execution_count": 60,
     "metadata": {},
     "output_type": "execute_result"
    }
   ],
   "source": [
    "mask=df['Sub-Category']=='Phones'\n",
    "\n",
    "df[mask]['Discount'].mean()\n"
   ]
  },
  {
   "cell_type": "markdown",
   "id": "a758c9fb",
   "metadata": {},
   "source": [
    "#### what was the min & max discount rate of Phones?"
   ]
  },
  {
   "cell_type": "code",
   "execution_count": 63,
   "id": "0cafe862",
   "metadata": {},
   "outputs": [
    {
     "data": {
      "text/plain": [
       "0.4"
      ]
     },
     "execution_count": 63,
     "metadata": {},
     "output_type": "execute_result"
    }
   ],
   "source": [
    "mask=df['Sub-Category']=='Phones'\n",
    "\n",
    "#df[mask]['Discount'].min()\n",
    "df[mask]['Discount'].max()\n"
   ]
  }
 ],
 "metadata": {
  "kernelspec": {
   "display_name": "Python 3 (ipykernel)",
   "language": "python",
   "name": "python3"
  },
  "language_info": {
   "codemirror_mode": {
    "name": "ipython",
    "version": 3
   },
   "file_extension": ".py",
   "mimetype": "text/x-python",
   "name": "python",
   "nbconvert_exporter": "python",
   "pygments_lexer": "ipython3",
   "version": "3.9.12"
  }
 },
 "nbformat": 4,
 "nbformat_minor": 5
}
